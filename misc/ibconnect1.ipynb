{
  "cells": [
    {
      "cell_type": "code",
      "execution_count": 3,
      "metadata": {
        "id": "LQAuD7RrnFhq"
      },
      "outputs": [],
      "source": [
        "import numpy as np\n",
        "import pandas as pd\n",
        "import datetime\n",
        "import scipy.optimize as opt\n",
        "import math"
      ]
    },
    {
      "cell_type": "code",
      "execution_count": 4,
      "metadata": {
        "colab": {
          "base_uri": "https://localhost:8080/"
        },
        "id": "KhX7an8yoFON",
        "outputId": "080c933f-e60e-4e17-f81d-01e4d76a820d"
      },
      "outputs": [],
      "source": [
        "#!pip install ib_async"
      ]
    },
    {
      "cell_type": "code",
      "execution_count": 16,
      "metadata": {
        "colab": {
          "base_uri": "https://localhost:8080/",
          "height": 356
        },
        "id": "VqYwPoCvnsMd",
        "outputId": "28c71eff-1d32-47e8-fd45-695a7b5a41ae"
      },
      "outputs": [
        {
          "data": {
            "text/plain": [
              "<IB connected to 127.0.0.1:4002 clientId=1>"
            ]
          },
          "execution_count": 16,
          "metadata": {},
          "output_type": "execute_result"
        }
      ],
      "source": [
        "\n",
        "from ib_async import *\n",
        "\n",
        "util.startLoop() # enable this line when in notebook\n",
        "ib = IB()\n",
        "ib.connect(port=4002, timeout=30)"
      ]
    },
    {
      "cell_type": "code",
      "execution_count": 21,
      "metadata": {},
      "outputs": [
        {
          "name": "stdout",
          "output_type": "stream",
          "text": [
            "symbol: SPX, spxValue: 5253.57\n",
            "['20240418', '20240516', '20240620', '20240718', '20240815', '20240919', '20241017', '20241114', '20241219', '20250116', '20250220', '20250320', '20250416', '20250618', '20251218', '20261217', '20271216', '20281214', '20291220']\n"
          ]
        }
      ],
      "source": [
        "#https://nbviewer.org/github/erdewit/ib_insync/blob/master/notebooks/option_chain.ipynb\n",
        "\n",
        "spx = Index('SPX', 'CBOE')\n",
        "ib.qualifyContracts(spx)\n",
        "ib.reqMarketDataType(4)\n",
        "[ticker] = ib.reqTickers(spx)\n",
        "spxValue = ticker.marketPrice()\n",
        "\n",
        "print(f\"symbol: {spx.symbol}, spxValue: {spxValue}\")\n",
        "\n",
        "chains = ib.reqSecDefOptParams(spx.symbol, '', spx.secType, spx.conId)\n",
        "\n",
        "util.df(chains)\n",
        "\n",
        "print(chains[0].expirations)\n",
        "\n",
        "ib.disconnect()"
      ]
    },
    {
      "cell_type": "code",
      "execution_count": 26,
      "metadata": {},
      "outputs": [
        {
          "name": "stdout",
          "output_type": "stream",
          "text": [
            "\n"
          ]
        },
        {
          "data": {
            "text/plain": [
              "\"\\n#SPY 240503 C 00430000\\noption_contract = Option('SPY', '20240510', 495.00, 'C','SMART')\\ndata = ib.reqTickers(option_contract)\\nprint(data)\\nprint(data[0].marketPrice())\\n\""
            ]
          },
          "execution_count": 26,
          "metadata": {},
          "output_type": "execute_result"
        }
      ],
      "source": [
        "'''\n",
        "#SPY 240503 C 00430000\n",
        "option_contract = Option('SPY', '20240510', 495.00, 'C','SMART')\n",
        "data = ib.reqTickers(option_contract)\n",
        "print(data)\n",
        "print(data[0].marketPrice())\n",
        "'''"
      ]
    }
  ],
  "metadata": {
    "colab": {
      "provenance": []
    },
    "kernelspec": {
      "display_name": "Python 3",
      "name": "python3"
    },
    "language_info": {
      "codemirror_mode": {
        "name": "ipython",
        "version": 3
      },
      "file_extension": ".py",
      "mimetype": "text/x-python",
      "name": "python",
      "nbconvert_exporter": "python",
      "pygments_lexer": "ipython3",
      "version": "3.12.2"
    }
  },
  "nbformat": 4,
  "nbformat_minor": 0
}
